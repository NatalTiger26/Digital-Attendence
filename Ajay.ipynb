{
 "cells": [
  {
   "cell_type": "code",
   "execution_count": 24,
   "metadata": {},
   "outputs": [],
   "source": [
    "import matplotlib.pyplot as plt\n",
    "import pandas\n",
    "import numpy as np\n",
    "import cv2\n",
    "import os\n",
    "import shutil"
   ]
  },
  {
   "cell_type": "code",
   "execution_count": 59,
   "metadata": {},
   "outputs": [],
   "source": [
    "#removes files with values greater then 79\n",
    "\n",
    "\n",
    "# os.chdir('Dataset')\n",
    "# for i in celebrity_list:\n",
    "#     os.chdir(i)\n",
    "#     flag = 0\n",
    "#     for j in os.listdir():\n",
    "#         if (flag>=80):\n",
    "#             os.remove(j)\n",
    "#         flag +=1\n",
    "#     os.chdir('../')\n",
    "# os.chdir('../')\n"
   ]
  },
  {
   "cell_type": "code",
   "execution_count": 60,
   "metadata": {},
   "outputs": [],
   "source": [
    "# to rename the files with numbers\n",
    "\n",
    "\n",
    "# os.chdir('Dataset')\n",
    "# for i in celebrity_list:\n",
    "#     os.chdir(i)\n",
    "#     flag = 0\n",
    "#     for j in os.listdir():\n",
    "#         new_name = i[5:] + \"_\" + str(flag) + \".jpg\"\n",
    "#         os.rename(j, new_name)\n",
    "#         flag += 1\n",
    "#     os.chdir('../')\n",
    "# os.chdir('../')\n"
   ]
  },
  {
   "cell_type": "code",
   "execution_count": 61,
   "metadata": {},
   "outputs": [
    {
     "name": "stdout",
     "output_type": "stream",
     "text": [
      "pins_Adriana Lima 80\n",
      "pins_barack obama 80\n",
      "pins_Chris Hemsworth 80\n",
      "pins_Christian Bale 80\n",
      "pins_Cristiano Ronaldo 80\n",
      "pins_Dwayne Johnson 80\n",
      "pins_Jennifer Lawrence 80\n",
      "pins_Jeremy Renner 80\n",
      "pins_Leonardo DiCaprio 80\n",
      "pins_Lionel Messi 80\n",
      "pins_margot robbie 80\n",
      "pins_Rihanna 80\n",
      "pins_Selena Gomez 80\n",
      "pins_Shakira Isabel Mebarak 80\n",
      "pins_Taylor Swift 80\n",
      "pins_Zendaya 80\n"
     ]
    },
    {
     "data": {
      "text/plain": [
       "80"
      ]
     },
     "execution_count": 61,
     "metadata": {},
     "output_type": "execute_result"
    }
   ],
   "source": [
    "# function listing the number of files in each folder\n",
    "os.chdir('Dataset')\n",
    "celebrity_list = os.listdir()\n",
    "num_images = []\n",
    "folder_paths = []\n",
    "for i in celebrity_list:\n",
    "    os.chdir(i)\n",
    "    num_images.append(len(os.listdir()))\n",
    "    folder_paths.append(os.getcwd())\n",
    "    print(i, len(os.listdir()))\n",
    "    os.chdir('../')\n",
    "os.chdir('../')\n",
    "min(num_images)"
   ]
  },
  {
   "cell_type": "code",
   "execution_count": 62,
   "metadata": {},
   "outputs": [],
   "source": [
    "# To make a folder that has copies of all the pics from all the celebrities \n",
    "\n",
    "\n",
    "os.mkdir(\"Full Data\")\n",
    "os.chdir(\"Full Data\")\n",
    "destination = os.getcwd()\n",
    "os.chdir(\"..\")\n",
    "\n",
    "for source_path in folder_paths:\n",
    "    for f in os.listdir(source_path):\n",
    "        src_path = os.path.join(source_path, f)\n",
    "        dst_path = os.path.join(destination, f)\n",
    "        shutil.copyfile(src_path, dst_path)"
   ]
  },
  {
   "cell_type": "code",
   "execution_count": 63,
   "metadata": {},
   "outputs": [
    {
     "ename": "FileExistsError",
     "evalue": "[WinError 183] Cannot create a file when that file already exists: 'Collages'",
     "output_type": "error",
     "traceback": [
      "\u001b[1;31m---------------------------------------------------------------------------\u001b[0m",
      "\u001b[1;31mFileExistsError\u001b[0m                           Traceback (most recent call last)",
      "\u001b[1;32m~\\AppData\\Local\\Temp/ipykernel_10792/3228224846.py\u001b[0m in \u001b[0;36m<module>\u001b[1;34m\u001b[0m\n\u001b[1;32m----> 1\u001b[1;33m \u001b[0mos\u001b[0m\u001b[1;33m.\u001b[0m\u001b[0mmkdir\u001b[0m\u001b[1;33m(\u001b[0m\u001b[1;34m\"Collages\"\u001b[0m\u001b[1;33m)\u001b[0m\u001b[1;33m\u001b[0m\u001b[1;33m\u001b[0m\u001b[0m\n\u001b[0m",
      "\u001b[1;31mFileExistsError\u001b[0m: [WinError 183] Cannot create a file when that file already exists: 'Collages'"
     ]
    }
   ],
   "source": [
    "os.mkdir(\"Collages\")"
   ]
  },
  {
   "cell_type": "code",
   "execution_count": null,
   "metadata": {},
   "outputs": [],
   "source": []
  },
  {
   "cell_type": "code",
   "execution_count": null,
   "metadata": {},
   "outputs": [],
   "source": []
  },
  {
   "cell_type": "code",
   "execution_count": 18,
   "metadata": {},
   "outputs": [
    {
     "data": {
      "text/plain": [
       "'c:\\\\Users\\\\ajays\\\\Desktop\\\\Github\\\\ML-Project'"
      ]
     },
     "execution_count": 18,
     "metadata": {},
     "output_type": "execute_result"
    }
   ],
   "source": [
    "os.getcwd()\n",
    "os.mkdir()"
   ]
  },
  {
   "cell_type": "code",
   "execution_count": null,
   "metadata": {},
   "outputs": [],
   "source": []
  }
 ],
 "metadata": {
  "kernelspec": {
   "display_name": "Python 3.9.7 ('base')",
   "language": "python",
   "name": "python3"
  },
  "language_info": {
   "codemirror_mode": {
    "name": "ipython",
    "version": 3
   },
   "file_extension": ".py",
   "mimetype": "text/x-python",
   "name": "python",
   "nbconvert_exporter": "python",
   "pygments_lexer": "ipython3",
   "version": "3.9.7"
  },
  "orig_nbformat": 4,
  "vscode": {
   "interpreter": {
    "hash": "31573f05405314accbfaf7664fce8ff13322a8b89c7e6f07ba20217eb78624a0"
   }
  }
 },
 "nbformat": 4,
 "nbformat_minor": 2
}
