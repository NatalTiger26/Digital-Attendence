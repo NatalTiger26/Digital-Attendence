{
 "cells": [
  {
   "cell_type": "code",
   "execution_count": 37,
   "metadata": {},
   "outputs": [],
   "source": [
    "import matplotlib.pyplot as plt\n",
    "import pandas\n",
    "import numpy as np\n",
    "import cv2\n",
    "import os\n",
    "import shutil\n",
    "from PIL import Image\n",
    "import random"
   ]
  },
  {
   "cell_type": "code",
   "execution_count": 61,
   "metadata": {},
   "outputs": [],
   "source": [
    "def remove_some_files():     #removes files with values greater then 79\n",
    "    os.chdir('Dataset')\n",
    "    celebrity_list = os.listdir()\n",
    "    for i in celebrity_list:\n",
    "        os.chdir(i)\n",
    "        flag = 0\n",
    "        for j in os.listdir():\n",
    "            if (flag>=80):\n",
    "                os.remove(j)\n",
    "            flag +=1\n",
    "        os.chdir('../')\n",
    "    os.chdir('../')\n",
    "\n",
    "\n",
    "def remane_correctly():       # to rename the files with numbers\n",
    "    os.chdir('Dataset')\n",
    "    celebrity_list = os.listdir()\n",
    "    for i in celebrity_list:\n",
    "        os.chdir(i)\n",
    "        flag = 0\n",
    "        for j in os.listdir():\n",
    "            new_name = i[5:] + \"_\" + str(flag) + \".jpg\"\n",
    "            os.rename(j, new_name)\n",
    "            flag += 1\n",
    "        os.chdir('../')\n",
    "    os.chdir('../')\n",
    "\n",
    "\n",
    "def number_of_files():           # function listing the number of files in each folder\n",
    "    os.chdir('Dataset')\n",
    "    celebrity_list = os.listdir()\n",
    "    num_images = []\n",
    "    folder_paths = []\n",
    "    for i in celebrity_list:\n",
    "        os.chdir(i)\n",
    "        num_images.append(len(os.listdir()))\n",
    "        folder_paths.append(os.getcwd())\n",
    "        print(i, len(os.listdir()))\n",
    "        os.chdir('../')\n",
    "    os.chdir('../')\n",
    "    print(min(num_images))\n",
    "\n",
    "\n",
    "def Create_full_data():            # To make a folder that has copies of all the pics from all the celebrities \n",
    "    os.mkdir(\"Full Data\")\n",
    "    os.chdir(\"Full Data\")\n",
    "    destination = os.getcwd()\n",
    "    os.chdir(\"..\")\n",
    "\n",
    "    os.chdir('Dataset')\n",
    "    celebrity_list = os.listdir()\n",
    "    folder_paths = []\n",
    "    for i in celebrity_list:\n",
    "        os.chdir(i)\n",
    "        folder_paths.append(os.getcwd())\n",
    "        os.chdir('../')\n",
    "    os.chdir('../')\n",
    "\n",
    "\n",
    "\n",
    "    for source_path in folder_paths:\n",
    "        for f in os.listdir(source_path):\n",
    "            src_path = os.path.join(source_path, f)\n",
    "            dst_path = os.path.join(destination, f)\n",
    "            shutil.copyfile(src_path, dst_path)\n",
    "        \n",
    "\n",
    "def resize_dataset():             # This will resize our images in Dataset to (size, size) \n",
    "    size = 128\n",
    "    os.chdir(\"Dataset\")\n",
    "    for i in os.listdir():\n",
    "        os.chdir(i)\n",
    "        for j in range(80):\n",
    "            im = Image.open(i + \"_\" + str(j)+ \".jpg\")\n",
    "            newsize = (size, size)\n",
    "            im1 = im.resize(newsize)\n",
    "            im1.save(i + \"_\" + str(j)+ \".jpg\")\n",
    "        os.chdir(\"..\")\n",
    "    os.chdir(\"..\")\n",
    "\n",
    "\n",
    "def collage_maker():\n",
    "    os.chdir(\"Dataset\")\n",
    "    celebrity_list = os.listdir()\n",
    "    for i in range(80):\n",
    "        random.shuffle(celebrity_list)\n",
    "        Vconcat = []\n",
    "        for j in range(4):\n",
    "            Hconcat = []\n",
    "            for k in range(4):\n",
    "                Hconcat.append(cv2.imread(celebrity_list[4*j + k] + \"\\\\\" + celebrity_list[4*j + k] + \"_\" + str(i) + \".jpg\"))\n",
    "            Vconcat.append(cv2.hconcat(Hconcat))\n",
    "        img = cv2.vconcat(Vconcat)\n",
    "        os.chdir(\"../Collages\")\n",
    "        dest_path = \"Collage_\" + str(i) + \".jpg\"\n",
    "        cv2.imwrite(dest_path, img)\n",
    "        os.chdir(\"../Dataset\")\n",
    "    os.chdir(\"..\")\n",
    "\n"
   ]
  },
  {
   "cell_type": "code",
   "execution_count": 59,
   "metadata": {},
   "outputs": [],
   "source": []
  },
  {
   "cell_type": "code",
   "execution_count": 60,
   "metadata": {},
   "outputs": [],
   "source": [
    "collage_maker()"
   ]
  },
  {
   "cell_type": "code",
   "execution_count": 36,
   "metadata": {},
   "outputs": [
    {
     "data": {
      "text/plain": [
       "'c:\\\\Users\\\\ajays\\\\Desktop\\\\Github\\\\ML-Project'"
      ]
     },
     "execution_count": 36,
     "metadata": {},
     "output_type": "execute_result"
    }
   ],
   "source": [
    "os.getcwd()"
   ]
  },
  {
   "cell_type": "code",
   "execution_count": 41,
   "metadata": {},
   "outputs": [
    {
     "name": "stdout",
     "output_type": "stream",
     "text": [
      "['Cristiano Ronaldo', 'Dwayne Johnson', 'barack obama', 'Zendaya', 'Selena Gomez', 'Rihanna', 'Taylor Swift', 'Christian Bale', 'Chris Hemsworth', 'margot robbie', 'Adriana Lima', 'Leonardo DiCaprio', 'Jennifer Lawrence', 'Jeremy Renner', 'Lionel Messi', 'Shakira Isabel Mebarak'] None\n"
     ]
    }
   ],
   "source": [
    "os.chdir(\"Dataset\")\n",
    "celebrity_list = os.listdir()\n",
    "print(celebrity_list, random.shuffle(celebrity_list))\n",
    "os.chdir(\"..\")"
   ]
  },
  {
   "cell_type": "code",
   "execution_count": 44,
   "metadata": {},
   "outputs": [
    {
     "name": "stdout",
     "output_type": "stream",
     "text": [
      "[10, 1, 8, 2, 3, 7, 6, 5, 4, 9]\n"
     ]
    }
   ],
   "source": [
    "L = [1, 2, 3, 4, 5, 6, 7, 8, 9, 10]\n",
    "random.shuffle(L)\n",
    "print(L)"
   ]
  },
  {
   "cell_type": "code",
   "execution_count": 58,
   "metadata": {},
   "outputs": [],
   "source": [
    "os.chdir(\"..\")"
   ]
  },
  {
   "cell_type": "code",
   "execution_count": 57,
   "metadata": {},
   "outputs": [
    {
     "data": {
      "text/plain": [
       "'c:\\\\Users\\\\ajays\\\\Desktop\\\\Github\\\\ML-Project\\\\Collages'"
      ]
     },
     "execution_count": 57,
     "metadata": {},
     "output_type": "execute_result"
    }
   ],
   "source": [
    "os.getcwd()"
   ]
  },
  {
   "cell_type": "code",
   "execution_count": null,
   "metadata": {},
   "outputs": [],
   "source": []
  }
 ],
 "metadata": {
  "kernelspec": {
   "display_name": "Julia 1.7.2",
   "language": "julia",
   "name": "julia-1.7"
  },
  "language_info": {
   "file_extension": ".jl",
   "mimetype": "application/julia",
   "name": "julia",
   "version": "1.7.2"
  },
  "orig_nbformat": 4,
  "vscode": {
   "interpreter": {
    "hash": "31573f05405314accbfaf7664fce8ff13322a8b89c7e6f07ba20217eb78624a0"
   }
  }
 },
 "nbformat": 4,
 "nbformat_minor": 2
}
